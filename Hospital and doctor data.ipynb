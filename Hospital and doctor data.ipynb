{
  "metadata": {
    "kernelspec": {
      "name": "python",
      "display_name": "Python (Pyodide)",
      "language": "python"
    },
    "language_info": {
      "codemirror_mode": {
        "name": "python",
        "version": 3
      },
      "file_extension": ".py",
      "mimetype": "text/x-python",
      "name": "python",
      "nbconvert_exporter": "python",
      "pygments_lexer": "ipython3",
      "version": "3.8"
    }
  },
  "nbformat_minor": 5,
  "nbformat": 4,
  "cells": [
    {
      "id": "61374244-e035-4356-942c-622fe564f0a9",
      "cell_type": "code",
      "source": "import sqlite3\n\n# Function to connect to the database and create tables if they don't exist\ndef create_tables():\n    try:\n        sqlconnection = sqlite3.connect(\"Hospital.db\")\n        cursor = sqlconnection.cursor()\n        print(\"Database connected successfully\")\n\n        # Create Hospital Table\n        cursor.execute(\"\"\"\n        CREATE TABLE IF NOT EXISTS Hospital (\n            Hospital_Id INTEGER PRIMARY KEY,\n            Hospital_Name TEXT NOT NULL,\n            Capacity INTEGER NOT NULL\n        );\n        \"\"\")\n\n        # Create Doctor Table\n        cursor.execute(\"\"\"\n        CREATE TABLE IF NOT EXISTS Doctor (\n            Doctor_Id INTEGER PRIMARY KEY,\n            Doctor_Name TEXT NOT NULL,\n            Hospital_Id INTEGER NOT NULL,\n            JoiningDate TEXT NOT NULL,\n            Specialty TEXT NOT NULL,\n            Salary INTEGER NOT NULL,\n            ExperienceInYears INTEGER DEFAULT 0,\n            FOREIGN KEY (Hospital_Id) REFERENCES Hospital (Hospital_Id)\n        );\n        \"\"\")\n\n        sqlconnection.commit()\n        print(\"Tables created successfully (if not already existing).\")\n\n    except sqlite3.Error as error:\n        print(\"Error:\", error)\n    finally:\n        sqlconnection.close()\n\n\n# Function to insert sample data if tables are empty\ndef insert_sample_data():\n    try:\n        sqlconnection = sqlite3.connect(\"Hospital.db\")\n        cursor = sqlconnection.cursor()\n\n        # Check if tables are empty before inserting data\n        cursor.execute(\"SELECT COUNT(*) FROM Hospital\")\n        hospital_count = cursor.fetchone()[0]\n\n        cursor.execute(\"SELECT COUNT(*) FROM Doctor\")\n        doctor_count = cursor.fetchone()[0]\n\n        if hospital_count == 0:\n            cursor.executescript(\"\"\"\n            INSERT INTO Hospital VALUES (101, 'Mayo Clinic', 230);\n            INSERT INTO Hospital VALUES (102, 'JP Hopkins', 130);\n            INSERT INTO Hospital VALUES (103, 'New Amsterdam', 200);\n            INSERT INTO Hospital VALUES (104, 'Cleveland Clinic', 30);\n            INSERT INTO Hospital VALUES (105, 'Toronto Hospital', 180);\n            INSERT INTO Hospital VALUES (106, 'Natura', 150);\n            INSERT INTO Hospital VALUES (107, 'Johnson and Johnson', 600);\n            \"\"\")\n\n        if doctor_count == 0:\n            cursor.executescript(\"\"\"\n            INSERT INTO Doctor VALUES (1, 'Michael', 101, '2005-02-10', 'Pediatric', 100000, 0);\n            INSERT INTO Doctor VALUES (2, 'Linda', 101, '2007-08-08', 'Gyane', 120000, 0);\n            INSERT INTO Doctor VALUES (3, 'William', 102, '2004-09-11', 'Cardiologist', 150000, 0);\n            INSERT INTO Doctor VALUES (4, 'Richard', 101, '2011-09-05', 'Pediatric', 95000, 0);\n            INSERT INTO Doctor VALUES (5, 'Karen', 103, '2020-09-05', 'Oncologist', 180000, 0);\n            INSERT INTO Doctor VALUES (6, 'Robert', 104, '1998-09-04', 'Gyane', 130000, 0);\n            INSERT INTO Doctor VALUES (7, 'Susan', 105, '1994-06-05', 'Oncologist', 170000, 0);\n            INSERT INTO Doctor VALUES (8, 'Nancy', 106, '1994-06-05', 'Cardiologist', 155000, 0);\n            INSERT INTO Doctor VALUES (9, 'Nick', 107, '2019-06-05', 'Cardiologist', 140000, 0);\n            \"\"\")\n\n        sqlconnection.commit()\n        print(\"Sample data inserted successfully (if tables were empty).\")\n\n    except sqlite3.Error as error:\n        print(\"Error:\", error)\n    finally:\n        sqlconnection.close()\n\n\n# Function to fetch hospital and doctor details by their IDs\ndef fetch_hospital_and_doctor(hospital_id, doctor_id):\n    try:\n        sqlconnection = sqlite3.connect(\"Hospital.db\")\n        cursor = sqlconnection.cursor()\n\n        cursor.execute(\"SELECT * FROM Hospital WHERE Hospital_Id = ?\", (hospital_id,))\n        hospital = cursor.fetchone()\n\n        cursor.execute(\"SELECT * FROM Doctor WHERE Doctor_Id = ?\", (doctor_id,))\n        doctor = cursor.fetchone()\n\n        if hospital:\n            print(\"\\nHospital Details:\", hospital)\n        else:\n            print(\"\\nNo hospital found with ID:\", hospital_id)\n\n        if doctor:\n            print(\"Doctor Details:\", doctor)\n        else:\n            print(\"No doctor found with ID:\", doctor_id)\n\n    except sqlite3.Error as error:\n        print(\"Error:\", error)\n    finally:\n        sqlconnection.close()\n\n\n# Function to get doctors by specialty and salary\ndef get_doctors_by_specialty_and_salary(specialty, min_salary):\n    try:\n        sqlconnection = sqlite3.connect(\"Hospital.db\")\n        cursor = sqlconnection.cursor()\n\n        query = \"SELECT * FROM Doctor WHERE Specialty = ? AND Salary >= ?\"\n        cursor.execute(query, (specialty, min_salary))\n        doctors = cursor.fetchall()\n\n        if doctors:\n            print(\"\\nDoctors matching the criteria:\")\n            for doctor in doctors:\n                print(doctor)\n        else:\n            print(\"\\nNo doctors found with the given specialty and salary criteria.\")\n\n    except sqlite3.Error as error:\n        print(\"Error:\", error)\n    finally:\n        sqlconnection.close()\n\n\n# Function to get doctors by hospital\ndef get_doctors_by_hospital(hospital_id):\n    try:\n        sqlconnection = sqlite3.connect(\"Hospital.db\")\n        cursor = sqlconnection.cursor()\n\n        query = \"SELECT * FROM Doctor WHERE Hospital_Id = ?\"\n        cursor.execute(query, (hospital_id,))\n        doctors = cursor.fetchall()\n\n        if doctors:\n            print(\"\\nDoctors in Hospital ID:\", hospital_id)\n            for doctor in doctors:\n                print(doctor)\n        else:\n            print(\"\\nNo doctors found in this hospital.\")\n\n    except sqlite3.Error as error:\n        print(\"Error:\", error)\n    finally:\n        sqlconnection.close()\n\n\n# Function to update doctor's experience in years\ndef update_experience_in_years():\n    try:\n        sqlconnection = sqlite3.connect(\"Hospital.db\")\n        cursor = sqlconnection.cursor()\n        print(\"\\nUpdating doctor experience...\")\n\n        query = \"\"\"\n        UPDATE Doctor\n        SET ExperienceInYears = CAST((JULIANDAY(CURRENT_DATE) - JULIANDAY(JoiningDate)) / 365.25 AS INTEGER);\n        \"\"\"\n        cursor.execute(query)\n        sqlconnection.commit()\n\n        print(\"Doctor experience updated successfully.\")\n\n    except sqlite3.Error as error:\n        print(\"Error:\", error)\n    finally:\n        sqlconnection.close()\n\n\n# MAIN EXECUTION\nif __name__ == \"__main__\":\n    create_tables()\n    insert_sample_data()\n\n    # Fetch hospital and doctor details\n    fetch_hospital_and_doctor(101, 1)\n\n    # Get doctors by specialty and salary\n    get_doctors_by_specialty_and_salary(\"Cardiologist\", 120000)\n\n    # Get doctors from a given hospital\n    get_doctors_by_hospital(101)\n\n    # Update experience in years\n    update_experience_in_years()\n",
      "metadata": {
        "trusted": true
      },
      "outputs": [
        {
          "name": "stdout",
          "output_type": "stream",
          "text": "Database connected successfully\nTables created successfully (if not already existing).\nSample data inserted successfully (if tables were empty).\n\n (101, 'Mayo Clinic', 230)\nDoctor Details: (1, 'Michael', 101, '2005-02-10', 'Pediatric', 100000, 20)\n\nDoctors matching the criteria:\n(3, 'William', 102, '2004-09-11', 'Cardiologist', 150000, 20)\n(8, 'Nancy', 106, '1994-06-05', 'Cardiologist', 155000, 30)\n(9, 'Nick', 107, '2019-06-05', 'Cardiologist', 140000, 5)\n\n 101ors in Hospital ID:\n(1, 'Michael', 101, '2005-02-10', 'Pediatric', 100000, 20)\n(2, 'Linda', 101, '2007-08-08', 'Gyane', 120000, 17)\n(4, 'Richard', 101, '2011-09-05', 'Pediatric', 95000, 13)\n\nUpdating doctor experience...\nDoctor experience updated successfully.\n"
        }
      ],
      "execution_count": 4
    },
    {
      "id": "19c4d477-80c4-445f-95dd-0fbed0342a99",
      "cell_type": "code",
      "source": "",
      "metadata": {
        "trusted": true
      },
      "outputs": [],
      "execution_count": null
    },
    {
      "id": "1191d3eb-9757-4e67-8414-da72ad3fa9a3",
      "cell_type": "code",
      "source": "",
      "metadata": {
        "trusted": true
      },
      "outputs": [],
      "execution_count": null
    }
  ]
}